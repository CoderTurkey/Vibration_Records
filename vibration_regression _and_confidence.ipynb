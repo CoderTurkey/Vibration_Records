{
 "cells": [
  {
   "cell_type": "markdown",
   "metadata": {},
   "source": [
    "# Linear Regression Graph"
   ]
  },
  {
   "cell_type": "code",
   "execution_count": 10,
   "metadata": {
    "scrolled": false
   },
   "outputs": [
    {
     "name": "stdout",
     "output_type": "stream",
     "text": [
      "-0.25099145298929887\n",
      "const    3.493801\n",
      "SD      -1.773224\n",
      "dtype: float64\n",
      "                            OLS Regression Results                            \n",
      "==============================================================================\n",
      "Dep. Variable:                    PPV   R-squared:                       0.790\n",
      "Model:                            OLS   Adj. R-squared:                  0.777\n",
      "Method:                 Least Squares   F-statistic:                     63.77\n",
      "Date:                Wed, 29 May 2019   Prob (F-statistic):           3.74e-07\n",
      "Time:                        19:34:59   Log-Likelihood:                 11.261\n",
      "No. Observations:                  19   AIC:                            -18.52\n",
      "Df Residuals:                      17   BIC:                            -16.63\n",
      "Df Model:                           1                                         \n",
      "Covariance Type:            nonrobust                                         \n",
      "==============================================================================\n",
      "                 coef    std err          t      P>|t|      [0.025      0.975]\n",
      "------------------------------------------------------------------------------\n",
      "const          3.4938      0.369      9.474      0.000       2.716       4.272\n",
      "SD            -1.7732      0.222     -7.986      0.000      -2.242      -1.305\n",
      "==============================================================================\n",
      "Omnibus:                        3.741   Durbin-Watson:                   1.536\n",
      "Prob(Omnibus):                  0.154   Jarque-Bera (JB):                1.882\n",
      "Skew:                           0.715   Prob(JB):                        0.390\n",
      "Kurtosis:                       3.577   Cond. No.                         25.7\n",
      "==============================================================================\n",
      "\n",
      "Warnings:\n",
      "[1] Standard Errors assume that the covariance matrix of the errors is correctly specified.\n"
     ]
    },
    {
     "name": "stderr",
     "output_type": "stream",
     "text": [
      "C:\\Users\\KURSAT\\Anaconda3\\lib\\site-packages\\numpy\\core\\fromnumeric.py:2389: FutureWarning: Method .ptp is deprecated and will be removed in a future version. Use numpy.ptp instead.\n",
      "  return ptp(axis=axis, out=out, **kwargs)\n",
      "C:\\Users\\KURSAT\\Anaconda3\\lib\\site-packages\\scipy\\stats\\stats.py:1416: UserWarning: kurtosistest only valid for n>=20 ... continuing anyway, n=19\n",
      "  \"anyway, n=%i\" % int(n))\n",
      "C:\\Users\\KURSAT\\Anaconda3\\lib\\site-packages\\scipy\\stats\\stats.py:1416: UserWarning: kurtosistest only valid for n>=20 ... continuing anyway, n=19\n",
      "  \"anyway, n=%i\" % int(n))\n"
     ]
    },
    {
     "data": {
      "text/plain": [
       "0.1414215963789725"
      ]
     },
     "execution_count": 10,
     "metadata": {},
     "output_type": "execute_result"
    },
    {
     "data": {
      "image/png": "[encoded data removed]",
      "text/plain": [
       "<Figure size 576x288 with 1 Axes>"
      ]
     },
     "metadata": {
      "needs_background": "light"
     },
     "output_type": "display_data"
    }
   ],
   "source": [
    "#!/usr/bin/env python\n",
    "# coding: utf-8\n",
    "\n",
    "# In[1]:\n",
    "\n",
    "%matplotlib inline\n",
    "#get_ipython().run_line_magic('matplotlib', 'inline')\n",
    "import numpy as np\n",
    "import pandas as pd\n",
    "df=pd.read_csv('C:/Users/KURSAT/Desktop/Python Program Documents/vibration records.csv')\n",
    "#x = np.random.randn(100)\n",
    "#y = x + np.random.randn(100) + 10\n",
    "x=df['SD']\n",
    "y=df['PPV']\n",
    "# In[2]:\n",
    "\n",
    "y=np.log10(y)\n",
    "x=np.log10(x)\n",
    "\n",
    "\n",
    "import matplotlib.pyplot as plt\n",
    "# In[3]:\n",
    "\n",
    "\n",
    "fig, ax = plt.subplots(figsize=(8, 4))\n",
    "\n",
    "ax.scatter(x, y, alpha=0.5, color='orchid')\n",
    "\n",
    "fig.suptitle('Example Scatter Plot')\n",
    "\n",
    "fig.tight_layout(pad=2); \n",
    "\n",
    "ax.grid(True)\n",
    "\n",
    "fig.savefig('filename1.png', dpi=125)\n",
    "\n",
    "#import matplotlib.pyplot as plt\n",
    "import statsmodels.api as sm\n",
    "#%matplotlib notebook\n",
    "\n",
    "x_with_constant = sm.add_constant(x)\n",
    "\n",
    "model = sm.OLS(y, x_with_constant).fit()\n",
    "\n",
    "model.summary()\n",
    "\n",
    "x = sm.add_constant(x) # constant intercept term\n",
    "\n",
    "# Model: y ~ x + c\n",
    "\n",
    "model = sm.OLS(y, x)\n",
    "\n",
    "fitted = model.fit()\n",
    "\n",
    "x_pred = np.linspace(x.iloc[:,1].min(), x.iloc[:,1].max(), 19)\n",
    "\n",
    "x_pred2 = sm.add_constant(x_pred)\n",
    "\n",
    "y_pred = fitted.predict(x_pred2)\n",
    "\n",
    "ax.plot(x_pred, y_pred, '-', color='darkorchid', linewidth=2)\n",
    "\n",
    "upperbound_const = fitted.conf_int()[1][0] # Upper bound for 0.95 conf\n",
    "\n",
    "const_differ = upperbound_const - fitted.params[0]\n",
    "\n",
    "const_differ_log= np.log(const_differ)\n",
    "\n",
    "ax.plot(x_pred, y_pred + const_differ_log, '-', color='green', linewidth=2)\n",
    "\n",
    "plt.xticks([1.4,1.9], (10,100) )\n",
    "plt.yticks([-0.2,0.2,0.6,1.2], (0.1, 1, 10, 100))\n",
    "\n",
    "fig.savefig('filename2.png', dpi=125)\n",
    "\n",
    "\n",
    "# In[4]:\n",
    "\n",
    "\n",
    "print(const_differ_log)\n",
    "print(fitted.params)     # the estimated parameters for the regression line\n",
    "print(fitted.summary())  # summary statistics for the regression\n",
    "\n",
    "import numpy as np\n",
    "np.sqrt(fitted.scale)    # Residual Standard Error\n",
    "\n",
    "\n",
    "# In[ ]:"
   ]
  },
  {
   "cell_type": "markdown",
   "metadata": {},
   "source": [
    "# Back Transformation Of Best Fit Line Intercept And 95% Confidence Line Intercept Values"
   ]
  },
  {
   "cell_type": "code",
   "execution_count": 19,
   "metadata": {},
   "outputs": [
    {
     "name": "stdout",
     "output_type": "stream",
     "text": [
      "3117.4607912417464\n",
      "3.7264395260434098\n",
      "5326.4704995815655\n"
     ]
    }
   ],
   "source": [
    "print(10**3.493801) # Back Transformation Of Best Fit Line Intercept Value\n",
    "print(0.1414215963789725*1.645+3.493801) #Residual Standard Error*z value+BestFitLine Intercept\n",
    "print(10**3.7264395260434098) # Back Transformation Of 95% Confidence Line Intercept"
   ]
  }
 ],
 "metadata": {
  "kernelspec": {
   "display_name": "Python 3",
   "language": "python",
   "name": "python3"
  },
  "language_info": {
   "codemirror_mode": {
    "name": "ipython",
    "version": 3
   },
   "file_extension": ".py",
   "mimetype": "text/x-python",
   "name": "python",
   "nbconvert_exporter": "python",
   "pygments_lexer": "ipython3",
   "version": "3.7.1"
  }
 },
 "nbformat": 4,
 "nbformat_minor": 2
}
